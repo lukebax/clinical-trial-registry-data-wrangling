{
 "cells": [
  {
   "cell_type": "code",
   "execution_count": 1,
   "metadata": {},
   "outputs": [],
   "source": [
    "# boilerplate\n",
    "import pandas as pd\n",
    "import xlsxwriter\n",
    "\n",
    "path_to_input = '../../output/'\n",
    "path_to_output = '../../output/'"
   ]
  },
  {
   "cell_type": "code",
   "execution_count": 2,
   "metadata": {},
   "outputs": [],
   "source": [
    "# load data\n",
    "df1 = pd.read_csv(path_to_input + 'ctgov_search1and2_intersect_deduplicated.csv')\n",
    "df2 = pd.read_csv(path_to_input + 'ictrp_search1and2_intersect_deduplicated.csv')\n",
    "\n",
    "# concatenate and deduplicate\n",
    "df_combo = pd.concat([df1, df2], axis=0)\n",
    "df_combo.drop_duplicates(subset='TrialID', keep='first', inplace=True)\n",
    "\n",
    "# cleanup\n",
    "df_combo.sort_values(by='Register', inplace=True)\n",
    "df_combo.reset_index(drop=True, inplace=True)\n",
    "\n",
    "# save data\n",
    "df_combo.to_csv(path_to_output + 'ct_list.csv', index=False)\n",
    "df_combo.to_excel(path_to_output + 'ct_list.xlsx', index=False)"
   ]
  },
  {
   "cell_type": "code",
   "execution_count": 3,
   "metadata": {},
   "outputs": [],
   "source": [
    "# Export to xlsx file\n",
    "df_combo.to_excel(path_to_output + 'ct_list.xlsx', engine='xlsxwriter') \n",
    "\n",
    "#Open it with xlsxwriter\n",
    "writer = pd.ExcelWriter(path_to_output + 'ct_list.xlsx', engine='xlsxwriter') \n",
    "df_combo.to_excel(writer, sheet_name='Sheet1')\n",
    "\n",
    "#Assign the workbook and worksheet\n",
    "workbook  = writer.book\n",
    "worksheet = writer.sheets['Sheet1']\n",
    "\n",
    "# add new column for screening\n",
    "cell_format_colname = workbook.add_format({'bold': True})\n",
    "worksheet.write(0, 5, 'Screening', cell_format_colname)\n",
    "\n",
    "\n",
    "# reformat URL column so that the horizontal alignment is set to fill (stop text overflow)\n",
    "cell_format_coldata = workbook.add_format()\n",
    "cell_format_coldata.set_align('fill')\n",
    "\n",
    "last_row = len(df_combo)\n",
    "\n",
    "for row in range(0, last_row):\n",
    "\n",
    "    trialid_ = df_combo.iloc[row, 0]\n",
    "    title_ = df_combo.iloc[row, 1]\n",
    "    register_ = df_combo.iloc[row, 2]\n",
    "    url_ = df_combo.iloc[row, 3]\n",
    "\n",
    "    row_reindex = row + 1\n",
    "\n",
    "    worksheet.write(row_reindex, 1, trialid_, cell_format_coldata)\n",
    "    worksheet.write(row_reindex, 2, title_, cell_format_coldata)\n",
    "    worksheet.write(row_reindex, 3, register_, cell_format_coldata)\n",
    "    worksheet.write(row_reindex, 4, url_, cell_format_coldata)\n",
    "\n",
    "    worksheet.data_validation(row_reindex, 5, row_reindex, 5, {'validate': 'list',\n",
    "                                  'source': ['Include',' Exclude']})\n",
    "\n",
    "\n",
    "# close and save\n",
    "workbook.close()"
   ]
  }
 ],
 "metadata": {
  "kernelspec": {
   "display_name": "Python 3.9.12 ('base')",
   "language": "python",
   "name": "python3"
  },
  "language_info": {
   "codemirror_mode": {
    "name": "ipython",
    "version": 3
   },
   "file_extension": ".py",
   "mimetype": "text/x-python",
   "name": "python",
   "nbconvert_exporter": "python",
   "pygments_lexer": "ipython3",
   "version": "3.9.12"
  },
  "orig_nbformat": 4,
  "vscode": {
   "interpreter": {
    "hash": "4c3e0a1d3549288918018af7fbdda405be4b3f336036a1dac1a54eaf013591e6"
   }
  }
 },
 "nbformat": 4,
 "nbformat_minor": 2
}
