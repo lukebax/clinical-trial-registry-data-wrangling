{
 "cells": [
  {
   "cell_type": "code",
   "execution_count": 1,
   "metadata": {},
   "outputs": [],
   "source": [
    "# boilerplate\n",
    "import pandas as pd\n",
    "path_to_data = '../../'"
   ]
  },
  {
   "cell_type": "code",
   "execution_count": 2,
   "metadata": {},
   "outputs": [],
   "source": [
    "# load data\n",
    "df1 = pd.read_csv(path_to_data + 'ctgov_search1_2022-07-27.csv')\n",
    "df2 = pd.read_csv(path_to_data + 'ctgov_search2_2022-07-27.csv')"
   ]
  },
  {
   "cell_type": "code",
   "execution_count": 3,
   "metadata": {},
   "outputs": [],
   "source": [
    "# find intersection\n",
    "filt = df1['NCT Number'].isin(df2['NCT Number'])\n",
    "df_intersect = df1[filt]"
   ]
  },
  {
   "cell_type": "code",
   "execution_count": 4,
   "metadata": {},
   "outputs": [],
   "source": [
    "# cleanup\n",
    "df_intersect = df_intersect[['NCT Number', 'Title', 'URL']]\n",
    "df_intersect.rename(columns={'NCT Number': 'TrialID'}, inplace=True)\n",
    "df_intersect.insert(2, 'Register', 'ClinicalTrials.gov')"
   ]
  },
  {
   "cell_type": "code",
   "execution_count": 5,
   "metadata": {},
   "outputs": [],
   "source": [
    "# save data\n",
    "df_intersect.to_csv(path_to_data + 'ctgov_search1and2_intersect.csv', index=False)"
   ]
  }
 ],
 "metadata": {
  "kernelspec": {
   "display_name": "Python 3.9.12 ('base')",
   "language": "python",
   "name": "python3"
  },
  "language_info": {
   "codemirror_mode": {
    "name": "ipython",
    "version": 3
   },
   "file_extension": ".py",
   "mimetype": "text/x-python",
   "name": "python",
   "nbconvert_exporter": "python",
   "pygments_lexer": "ipython3",
   "version": "3.9.12"
  },
  "orig_nbformat": 4,
  "vscode": {
   "interpreter": {
    "hash": "4c3e0a1d3549288918018af7fbdda405be4b3f336036a1dac1a54eaf013591e6"
   }
  }
 },
 "nbformat": 4,
 "nbformat_minor": 2
}
