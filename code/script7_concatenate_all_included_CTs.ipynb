{
 "cells": [
  {
   "cell_type": "code",
   "execution_count": 7,
   "metadata": {},
   "outputs": [],
   "source": [
    "# boilerplate\n",
    "import pandas as pd\n",
    "# import xlsxwriter\n",
    "\n",
    "path_to_data = '../../clinical_trial_registries_data/'"
   ]
  },
  {
   "cell_type": "code",
   "execution_count": 8,
   "metadata": {},
   "outputs": [],
   "source": [
    "# load data\n",
    "df1 = pd.read_excel(path_to_data + 'ct_list_include_round_2.xlsx')\n",
    "df2 = pd.read_excel(path_to_data + 'ct_list_reconcile_round_2_RS.xlsx')"
   ]
  },
  {
   "cell_type": "code",
   "execution_count": 9,
   "metadata": {},
   "outputs": [],
   "source": [
    "# find trials to include\n",
    "df1_includes = df1[df1['Screening'] == 'Include']\n",
    "df2_includes = df2[df2['Screening'] == 'Include']\n",
    "df_all_includes = pd.concat([df1_includes, df2_includes], axis=0)\n",
    "df_all_includes = df_all_includes.sort_index()\n",
    "df_all_includes.reset_index(drop=True, inplace=True)\n",
    "df_all_includes.drop(columns='Unnamed: 0', level=None, inplace=True)"
   ]
  },
  {
   "cell_type": "code",
   "execution_count": 11,
   "metadata": {},
   "outputs": [],
   "source": [
    "# save data\n",
    "df_all_includes.to_excel(path_to_data + 'ct_list_include_final.xlsx', index=True)\n"
   ]
  }
 ],
 "metadata": {
  "kernelspec": {
   "display_name": "Python 3.9.12 ('base')",
   "language": "python",
   "name": "python3"
  },
  "language_info": {
   "codemirror_mode": {
    "name": "ipython",
    "version": 3
   },
   "file_extension": ".py",
   "mimetype": "text/x-python",
   "name": "python",
   "nbconvert_exporter": "python",
   "pygments_lexer": "ipython3",
   "version": "3.9.12"
  },
  "orig_nbformat": 4,
  "vscode": {
   "interpreter": {
    "hash": "4c3e0a1d3549288918018af7fbdda405be4b3f336036a1dac1a54eaf013591e6"
   }
  }
 },
 "nbformat": 4,
 "nbformat_minor": 2
}
