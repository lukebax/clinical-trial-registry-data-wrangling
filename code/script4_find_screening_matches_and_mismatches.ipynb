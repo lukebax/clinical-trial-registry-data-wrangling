{
 "cells": [
  {
   "cell_type": "code",
   "execution_count": 4,
   "metadata": {},
   "outputs": [],
   "source": [
    "# boilerplate\n",
    "import pandas as pd\n",
    "import xlsxwriter\n",
    "\n",
    "path_to_data = '../../clinical_trial_registries_data/'"
   ]
  },
  {
   "cell_type": "code",
   "execution_count": 5,
   "metadata": {},
   "outputs": [],
   "source": [
    "# load data\n",
    "df1 = pd.read_excel(path_to_data + 'ct_list_MC.xlsx')\n",
    "df2 = pd.read_excel(path_to_data + 'ct_list_RS.xlsx')"
   ]
  },
  {
   "cell_type": "code",
   "execution_count": 6,
   "metadata": {},
   "outputs": [],
   "source": [
    "# find trials to include\n",
    "df1_includes = df1[df1['Screening'] == 'Include']\n",
    "df2_includes = df2[df2['Screening'] == 'Include']\n",
    "df_all_includes = pd.concat([df1_includes, df2_includes], axis=0)\n",
    "include_filter = df_all_includes.duplicated(subset='TrialID', keep='first')\n",
    "df_include = df_all_includes[include_filter]\n",
    "df_include = df_include.sort_index()\n",
    "df_include.drop(columns='Unnamed: 0', level=None, inplace=True)"
   ]
  },
  {
   "cell_type": "code",
   "execution_count": 7,
   "metadata": {},
   "outputs": [],
   "source": [
    "# find trials to reconcile\n",
    "df_reconcile = df_all_includes.drop_duplicates(subset='TrialID', keep=False)\n",
    "df_reconcile = df_reconcile.sort_index()\n",
    "\n",
    "df_reconcile.drop(columns=['Unnamed: 0', 'Screening'], level=None, inplace=True)\n",
    "df_reconcile[\"Screening\"] = \" \"\n"
   ]
  },
  {
   "cell_type": "code",
   "execution_count": 8,
   "metadata": {},
   "outputs": [],
   "source": [
    "# save data\n",
    "df_include.to_excel(path_to_data + 'ct_list_include.xlsx', index=True)\n",
    "df_reconcile.to_excel(path_to_data + 'ct_list_reconcile.xlsx', index=True)"
   ]
  },
  {
   "cell_type": "code",
   "execution_count": 6,
   "metadata": {},
   "outputs": [],
   "source": [
    "# Export to xlsx file\n",
    "df_reconcile.to_excel(path_to_data + 'ct_list_reconcile.xlsx', engine='xlsxwriter') \n",
    "\n",
    "#Open it with xlsxwriter\n",
    "writer = pd.ExcelWriter(path_to_data + 'ct_list_reconcile.xlsx', engine='xlsxwriter') \n",
    "df_reconcile.to_excel(writer, sheet_name='Sheet1')\n",
    "\n",
    "#Assign the workbook and worksheet\n",
    "workbook  = writer.book\n",
    "worksheet = writer.sheets['Sheet1']\n",
    "\n",
    "# add new column for screening\n",
    "cell_format_colname = workbook.add_format({'bold': True})\n",
    "worksheet.write(0, 5, 'Screening', cell_format_colname)\n",
    "\n",
    "\n",
    "# reformat URL column so that the horizontal alignment is set to fill (stop text overflow)\n",
    "cell_format_coldata = workbook.add_format()\n",
    "cell_format_coldata.set_align('fill')\n",
    "\n",
    "last_row = len(df_reconcile)\n",
    "\n",
    "for row in range(0, last_row):\n",
    "\n",
    "    trialid_ = df_reconcile.iloc[row, 0]\n",
    "    title_ = df_reconcile.iloc[row, 1]\n",
    "    register_ = df_reconcile.iloc[row, 2]\n",
    "    url_ = df_reconcile.iloc[row, 3]\n",
    "\n",
    "    row_reindex = row + 1\n",
    "\n",
    "    worksheet.write(row_reindex, 1, trialid_, cell_format_coldata)\n",
    "    worksheet.write(row_reindex, 2, title_, cell_format_coldata)\n",
    "    worksheet.write(row_reindex, 3, register_, cell_format_coldata)\n",
    "    worksheet.write(row_reindex, 4, url_, cell_format_coldata)\n",
    "\n",
    "    worksheet.data_validation(row_reindex, 5, row_reindex, 5, {'validate': 'list',\n",
    "                                  'source': ['Include',' Exclude']})\n",
    "\n",
    "\n",
    "# close and save\n",
    "workbook.close()"
   ]
  }
 ],
 "metadata": {
  "kernelspec": {
   "display_name": "Python 3.9.12 ('base')",
   "language": "python",
   "name": "python3"
  },
  "language_info": {
   "codemirror_mode": {
    "name": "ipython",
    "version": 3
   },
   "file_extension": ".py",
   "mimetype": "text/x-python",
   "name": "python",
   "nbconvert_exporter": "python",
   "pygments_lexer": "ipython3",
   "version": "3.9.12"
  },
  "orig_nbformat": 4,
  "vscode": {
   "interpreter": {
    "hash": "4c3e0a1d3549288918018af7fbdda405be4b3f336036a1dac1a54eaf013591e6"
   }
  }
 },
 "nbformat": 4,
 "nbformat_minor": 2
}
