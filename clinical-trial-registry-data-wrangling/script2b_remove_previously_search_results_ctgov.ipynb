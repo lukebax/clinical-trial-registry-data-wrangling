{
 "cells": [
  {
   "cell_type": "code",
   "execution_count": 1,
   "metadata": {},
   "outputs": [],
   "source": [
    "# boilerplate\n",
    "import pandas as pd\n",
    "\n",
    "path_to_input_search1 = '../../../../search_1/data/clinical_trial_registries/'\n",
    "path_to_input_search2 = '../../output/'\n",
    "\n",
    "path_to_output = '../../output/'"
   ]
  },
  {
   "cell_type": "code",
   "execution_count": 2,
   "metadata": {},
   "outputs": [],
   "source": [
    "# load data\n",
    "df1 = pd.read_csv(path_to_input_search1 + 'ctgov_search1and2_intersect.csv')\n",
    "df2 = pd.read_csv(path_to_input_search2 + 'ctgov_search1and2_intersect.csv')\n",
    "\n",
    "# concatenate and deduplicate\n",
    "df_combo = pd.concat([df1, df2], axis=0)\n",
    "df_combo.drop_duplicates(subset='TrialID', keep=False, inplace=True)\n",
    "\n",
    "# cleanup\n",
    "df_combo.sort_values(by='Register', inplace=True)\n",
    "df_combo.reset_index(drop=True, inplace=True)\n",
    "\n",
    "# save data\n",
    "df_combo.to_csv(path_to_output + 'ctgov_search1and2_intersect_deduplicated.csv', index=False)"
   ]
  }
 ],
 "metadata": {
  "kernelspec": {
   "display_name": "Python 3.9.12 ('base')",
   "language": "python",
   "name": "python3"
  },
  "language_info": {
   "codemirror_mode": {
    "name": "ipython",
    "version": 3
   },
   "file_extension": ".py",
   "mimetype": "text/x-python",
   "name": "python",
   "nbconvert_exporter": "python",
   "pygments_lexer": "ipython3",
   "version": "3.9.12"
  },
  "orig_nbformat": 4,
  "vscode": {
   "interpreter": {
    "hash": "4c3e0a1d3549288918018af7fbdda405be4b3f336036a1dac1a54eaf013591e6"
   }
  }
 },
 "nbformat": 4,
 "nbformat_minor": 2
}
